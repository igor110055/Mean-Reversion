{
 "cells": [
  {
   "cell_type": "markdown",
   "metadata": {},
   "source": [
    "##  Creating and testing a Mean Reversion RSI_MA Long/Short Strategy in Crypto ##"
   ]
  },
  {
   "cell_type": "code",
   "execution_count": 1,
   "metadata": {},
   "outputs": [],
   "source": [
    "# Import Modules\n",
    "import vectorbt as vbt\n",
    "import numpy as np \n",
    "import pandas as pd \n",
    "import datetime"
   ]
  },
  {
   "cell_type": "code",
   "execution_count": 2,
   "metadata": {},
   "outputs": [
    {
     "name": "stderr",
     "output_type": "stream",
     "text": [
      "/Users/guilhermegomes/opt/anaconda3/lib/python3.9/site-packages/vectorbt/data/base.py:527: UserWarning: Symbols have mismatching index. Dropping missing data points.\n",
      "  data = cls.align_index(data, missing=missing_index)\n"
     ]
    }
   ],
   "source": [
    "# Get Data\n",
    "end_date = datetime.datetime.now()\n",
    "start_date = end_date - datetime.timedelta(days = 7)\n",
    "\n",
    "stocks = vbt.YFData.download(\n",
    "    [\"ADA-USD\", \"BNB-USD\", \"BTC-USD\", \"DOGE-USD\", \"ETH-USD\", \"SHIB-USD\", \"SOL-USD\", \"THETA-USD\", \"XRP-USD\"],   \n",
    "    interval = \"1D\", \n",
    "    missing_index = \"drop\").get(\"Close\")"
   ]
  },
  {
   "cell_type": "code",
   "execution_count": 3,
   "metadata": {},
   "outputs": [
    {
     "data": {
      "application/vnd.jupyter.widget-view+json": {
       "model_id": "ae8cfa4bd335412e9a2deec03c1b3e53",
       "version_major": 2,
       "version_minor": 0
      },
      "text/plain": [
       "FigureWidget({\n",
       "    'data': [{'name': 'total_return',\n",
       "              'showlegend': True,\n",
       "              'type': '…"
      ]
     },
     "metadata": {},
     "output_type": "display_data"
    }
   ],
   "source": [
    "# Creating a Function \n",
    "def combine_rsi_ma(stocks, fast_window, slow_window, rsi_window, top, bottom): \n",
    "    rsi = vbt.RSI.run(stocks, window = rsi_window).rsi.to_numpy()\n",
    "    fast = vbt.MA.run(stocks, window = fast_window).ma.to_numpy()\n",
    "    slow = vbt.MA.run(stocks, window = slow_window).ma.to_numpy()\n",
    "    indicator = np.where((fast > slow) & (rsi < top), 1, 0)\n",
    "    indicator = np.where((fast < slow) & (rsi > bottom), -1, indicator)\n",
    "    return indicator\n",
    "\n",
    "# Creating Indicator RSI_MA\n",
    "indicator_rsi_ma = vbt.IndicatorFactory(\n",
    "    class_name = \"Combination\", \n",
    "    short_name = \"RSI_MA\",\n",
    "    input_names = [\"close\"],\n",
    "    param_names = [\"fast_window\", \"slow_window\", \"rsi_window\", \"top\", \"bottom\"],\n",
    "    output_names = [\"value\"],  \n",
    ").from_apply_func(combine_rsi_ma, fast_window = 180, slow_window = 240, rsi_window = 14, top = 80, bottom = 20)\n",
    "\n",
    "# Optimizing RSI_MA\n",
    "res = indicator_rsi_ma.run(\n",
    "    stocks,\n",
    "    fast_window = np.arange(50, 150, step = 10, dtype = int),\n",
    "    slow_window = np.arange(100, 250, step = 10, dtype = int),\n",
    "    rsi_window = np.arange(1, 40, step = 3, dtype = int),\n",
    "    top = np.arange(50, 90, step = 10, dtype = int),\n",
    "    bottom = np.arange(10, 40, step = 10, dtype = int),\n",
    "    param_product = True\n",
    ")\n",
    "\n",
    "# Defining Entries/Exits - Short_entries/Short_Exits\n",
    "entries = res.value_crossed_above(0)\n",
    "exits = res.value_crossed_below(0)\n",
    "short_entries = res.value_crossed_below(0)\n",
    "short_exits = res.value_crossed_above(0)\n",
    "pf = vbt.Portfolio.from_signals(stocks, entries, exits, short_entries, short_exits, fees = 0.001, slippage = 0.001)\n",
    "max_return = pf.total_return().groupby(\"symbol\").max()\n",
    "max_return.vbt.barplot(xaxis_title = \"Stocks\", yaxis_title = \"Total Return\", height = 300, width = 1000)\n",
    "    "
   ]
  },
  {
   "cell_type": "code",
   "execution_count": null,
   "metadata": {},
   "outputs": [],
   "source": []
  }
 ],
 "metadata": {
  "interpreter": {
   "hash": "aa43da48ae1c80f599d8c0d9fb7e24737359c851fbb2d34c5fac06765a89ba09"
  },
  "kernelspec": {
   "display_name": "Python 3.9.12 ('base')",
   "language": "python",
   "name": "python3"
  },
  "language_info": {
   "codemirror_mode": {
    "name": "ipython",
    "version": 3
   },
   "file_extension": ".py",
   "mimetype": "text/x-python",
   "name": "python",
   "nbconvert_exporter": "python",
   "pygments_lexer": "ipython3",
   "version": "3.9.12"
  },
  "orig_nbformat": 4
 },
 "nbformat": 4,
 "nbformat_minor": 2
}
